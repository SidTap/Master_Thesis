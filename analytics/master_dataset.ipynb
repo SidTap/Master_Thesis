{
 "cells": [
  {
   "cell_type": "code",
   "execution_count": 1,
   "metadata": {},
   "outputs": [
    {
     "name": "stdout",
     "output_type": "stream",
     "text": [
      "All CSV files have been combined into master_file.csv\n"
     ]
    }
   ],
   "source": [
    "import pandas as pd\n",
    "import os\n",
    "import glob\n",
    "\n",
    "# Define the path to the directory containing the CSV files\n",
    "csv_directory = \"C://Users//siddd//OneDrive//Desktop//srh//master_Thesis//cleaning\"\n",
    "\n",
    "# Use glob to get all the CSV files in the directory\n",
    "csv_files = glob.glob(os.path.join(csv_directory, \"*.csv\"))\n",
    "\n",
    "# Create an empty list to store dataframes\n",
    "dfs = []\n",
    "\n",
    "# Iterate through the list of CSV files and read each one into a dataframe\n",
    "for csv_file in csv_files:\n",
    "    df = pd.read_csv(csv_file)\n",
    "    dfs.append(df)\n",
    "\n",
    "# Concatenate all dataframes into one master dataframe\n",
    "master_df = pd.concat(dfs, ignore_index=True)\n",
    "\n",
    "# Save the master dataframe to a new CSV file\n",
    "master_df.to_csv(\"C://Users//siddd//OneDrive//Desktop//srh//master_Thesis//analytics//master_df.csv\", index=False)\n",
    "\n",
    "print(\"All CSV files have been combined into master_file.csv\")\n"
   ]
  },
  {
   "cell_type": "code",
   "execution_count": null,
   "metadata": {},
   "outputs": [],
   "source": []
  }
 ],
 "metadata": {
  "kernelspec": {
   "display_name": "Python 3",
   "language": "python",
   "name": "python3"
  },
  "language_info": {
   "codemirror_mode": {
    "name": "ipython",
    "version": 3
   },
   "file_extension": ".py",
   "mimetype": "text/x-python",
   "name": "python",
   "nbconvert_exporter": "python",
   "pygments_lexer": "ipython3",
   "version": "3.10.11"
  }
 },
 "nbformat": 4,
 "nbformat_minor": 2
}
