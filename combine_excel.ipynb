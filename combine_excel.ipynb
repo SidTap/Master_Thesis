{
 "cells": [
  {
   "cell_type": "code",
   "execution_count": 1,
   "metadata": {},
   "outputs": [
    {
     "name": "stdout",
     "output_type": "stream",
     "text": [
      "All CSV files have been combined successfully with identifiers!\n"
     ]
    }
   ],
   "source": [
    "\n"
   ]
  },
  {
   "cell_type": "code",
   "execution_count": 7,
   "metadata": {},
   "outputs": [
    {
     "name": "stdout",
     "output_type": "stream",
     "text": [
      "All CSV files have been combined successfully with identifiers as the first column! Saved to C://Users//siddd//OneDrive//Desktop//srh//master_Thesis//PrepCode//Bollywood_combined.csv\n"
     ]
    }
   ],
   "source": [
    "import os\n",
    "import pandas as pd\n",
    "\n",
    "# List of tuples containing paths to the CSV files and the respective identifiers\n",
    "csv_files = [\n",
    "    (\"C://Users//siddd//OneDrive//Desktop//srh//master_Thesis//code//news_articles//BlitzIndia//Bollywood_BlitzIndia.csv\", 'BlitzIndia'),\n",
    "    (\"C://Users//siddd//OneDrive//Desktop//srh//master_Thesis//code//news_articles//CNN//Bollywood_CNN.csv\", 'CNN'),\n",
    "    (\"C://Users//siddd//OneDrive//Desktop//srh//master_Thesis//code//news_articles//EconomicTimes//Bollywood_EconomicTimes.csv\", 'EconomicTimes'),\n",
    "    (\"C://Users//siddd//OneDrive//Desktop//srh//master_Thesis//code//news_articles//FirstPost//Bollywood_Firstpost.csv\", 'FirstPost'),\n",
    "    (\"C://Users//siddd//OneDrive//Desktop//srh//master_Thesis//code//news_articles//IndianExpress//Bollywood_indianExpress.csv\", 'IndianExpress'),\n",
    "    (\"C://Users//siddd//OneDrive//Desktop//srh//master_Thesis//code//news_articles//NDTV//Bollywood_NDTV.csv\", 'NDTV'),\n",
    "    (\"C://Users//siddd//OneDrive//Desktop//srh//master_Thesis//code//news_articles//swarajya//Bollywood_swarajya.csv\", 'Swarajya'),\n",
    "    (\"C://Users//siddd//OneDrive//Desktop//srh//master_Thesis//code//news_articles//theNewIndianExpress//Bollywood_TheNewIndianExpress.csv\", 'TheNewIndianExpress'),\n",
    "    # Add more paths and identifiers as needed\n",
    "]\n",
    "\n",
    "# List to store the dataframes\n",
    "dataframes = []\n",
    "\n",
    "# Iterate through the list of CSV files and read them into dataframes\n",
    "for file, identifier in csv_files:\n",
    "    if os.path.exists(file):\n",
    "        df = pd.read_csv(file)\n",
    "        # Add a new column with the identifier as the first column\n",
    "        df.insert(0, 'Identifier', identifier)\n",
    "        dataframes.append(df)\n",
    "    else:\n",
    "        print(f\"File {file} does not exist.\")\n",
    "\n",
    "# Concatenate all dataframes\n",
    "combined_df = pd.concat(dataframes, ignore_index=True)\n",
    "\n",
    "# Save the combined dataframe to a new CSV file in a different directory\n",
    "output_path = \"C://Users//siddd//OneDrive//Desktop//srh//master_Thesis//PrepCode//Bollywood_combined.csv\"\n",
    "combined_df.to_csv(output_path, index=False)\n",
    "\n",
    "print(f\"All CSV files have been combined successfully with identifiers as the first column! Saved to {output_path}\")\n",
    "\n"
   ]
  },
  {
   "cell_type": "code",
   "execution_count": null,
   "metadata": {},
   "outputs": [],
   "source": []
  }
 ],
 "metadata": {
  "kernelspec": {
   "display_name": "base",
   "language": "python",
   "name": "python3"
  },
  "language_info": {
   "codemirror_mode": {
    "name": "ipython",
    "version": 3
   },
   "file_extension": ".py",
   "mimetype": "text/x-python",
   "name": "python",
   "nbconvert_exporter": "python",
   "pygments_lexer": "ipython3",
   "version": "3.8.5"
  }
 },
 "nbformat": 4,
 "nbformat_minor": 2
}
