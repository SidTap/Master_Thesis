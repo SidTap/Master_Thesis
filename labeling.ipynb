{
 "cells": [
  {
   "cell_type": "code",
   "execution_count": 1,
   "metadata": {},
   "outputs": [
    {
     "name": "stdout",
     "output_type": "stream",
     "text": [
      "Labeling completed and saved to Bollywood_labeled.csv\n"
     ]
    },
    {
     "ename": "",
     "evalue": "",
     "output_type": "error",
     "traceback": [
      "\u001b[1;31mThe Kernel crashed while executing code in the current cell or a previous cell. \n",
      "\u001b[1;31mPlease review the code in the cell(s) to identify a possible cause of the failure. \n",
      "\u001b[1;31mClick <a href='https://aka.ms/vscodeJupyterKernelCrash'>here</a> for more info. \n",
      "\u001b[1;31mView Jupyter <a href='command:jupyter.viewOutput'>log</a> for further details."
     ]
    }
   ],
   "source": [
    "import pandas as pd\n",
    "\n",
    "# Define the keywords and their corresponding labels\n",
    "labels = {\n",
    "    'blitzindia': ('Right', 'Liberal'),\n",
    "    'cnn': ('Centre', 'Centre'),\n",
    "    'economictimes': ('Right', 'Centre'),\n",
    "    'firstpost': ('Centre', 'Liberal'),\n",
    "    'indianexpress': ('Left', 'Centre'),\n",
    "    'ndtv': ('Left', 'Liberal'),\n",
    "    'swarajya': ('Right', 'Authoritarian'),\n",
    "    'thenewindianexpress': ('Centre', 'Centre'),\n",
    "}\n",
    "\n",
    "# Function to determine the labels based on keywords\n",
    "def determine_labels(identifier):\n",
    "    if isinstance(identifier, str):\n",
    "        identifier = identifier.lower()\n",
    "        for keyword, label_pair in labels.items():\n",
    "            if keyword in identifier:\n",
    "                return label_pair\n",
    "    return ('', '')  # Return empty strings instead of 'Unknown'\n",
    "\n",
    "# Read the CSV file\n",
    "df = pd.read_csv(\"C://Users//siddd//OneDrive//Desktop//srh//master_Thesis//PrepCode//Bollywood_combined.csv\")\n",
    "\n",
    "# Apply the function to the 'Identifier' column and split the results into two new columns\n",
    "df[['Economic', 'Social']] = df['Identifier'].apply(determine_labels).apply(pd.Series)\n",
    "\n",
    "# Save the modified DataFrame back to a CSV file\n",
    "df.to_csv(\"C://Users//siddd//OneDrive//Desktop//srh//master_Thesis//labeled//Bollywood_labeled.csv\", index=False)\n",
    "\n",
    "print(\"Labeling completed and saved to Bollywood_labeled.csv\")\n",
    "\n",
    "\n"
   ]
  },
  {
   "cell_type": "code",
   "execution_count": null,
   "metadata": {},
   "outputs": [],
   "source": []
  }
 ],
 "metadata": {
  "kernelspec": {
   "display_name": "Python 3",
   "language": "python",
   "name": "python3"
  },
  "language_info": {
   "codemirror_mode": {
    "name": "ipython",
    "version": 3
   },
   "file_extension": ".py",
   "mimetype": "text/x-python",
   "name": "python",
   "nbconvert_exporter": "python",
   "pygments_lexer": "ipython3",
   "version": "3.10.11"
  }
 },
 "nbformat": 4,
 "nbformat_minor": 2
}
